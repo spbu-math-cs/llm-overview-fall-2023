{
 "cells": [
  {
   "cell_type": "markdown",
   "id": "3d2be235",
   "metadata": {
    "papermill": {
     "duration": 0.005359,
     "end_time": "2024-01-07T19:18:07.770434",
     "exception": false,
     "start_time": "2024-01-07T19:18:07.765075",
     "status": "completed"
    },
    "tags": []
   },
   "source": [
    "# Сравнение реализаций Pipeline Parallelism"
   ]
  },
  {
   "cell_type": "markdown",
   "id": "9028fa65",
   "metadata": {
    "papermill": {
     "duration": 0.004331,
     "end_time": "2024-01-07T19:18:07.779636",
     "exception": false,
     "start_time": "2024-01-07T19:18:07.775305",
     "status": "completed"
    },
    "tags": []
   },
   "source": [
    "В главе «Обучение больших языковых моделей» мы разобрали несколько подходов, которые можно применить для параллелизации процессов обучения и инференса моделей. Среди них были Data Parallelism, Pipeline Parallelism, Tensor Parallelism и Sequence Parallelism. В этом ноутбуке мы на практике познакомимся с Pipeline Parallelism для инференса и сравним два разных варианта реализации этой техники.\n",
    "\n",
    "Эксперимент проводился на машине с двумя T4 GPU, поэтому для простоты в коде руками указаны номера используемых устройств. Код нетрудно обобщить на системы с большим числом GPU аналогичным образом. \n",
    "\n",
    "Код запускался в окружении с Python 3.10.12 и PyTorch 2.0.0."
   ]
  },
  {
   "cell_type": "markdown",
   "id": "90e021df",
   "metadata": {
    "papermill": {
     "duration": 0.004307,
     "end_time": "2024-01-07T19:18:07.788413",
     "exception": false,
     "start_time": "2024-01-07T19:18:07.784106",
     "status": "completed"
    },
    "tags": []
   },
   "source": [
    "## Pipeline Parallelism\n",
    "\n",
    "Идея этого подхода проста: разобъем слои модели на несколько блоков, которые разнесем по разным устройствам. Таким образом мы сможем запускать модели большего размера за счет использования видеопамяти сразу нескольких устройств."
   ]
  },
  {
   "cell_type": "markdown",
   "id": "6fb4ac2a",
   "metadata": {
    "papermill": {
     "duration": 0.004381,
     "end_time": "2024-01-07T19:18:07.797322",
     "exception": false,
     "start_time": "2024-01-07T19:18:07.792941",
     "status": "completed"
    },
    "tags": []
   },
   "source": [
    "Рассмотрим **наивный** вариант реализации этой техники, описанный в `pipeline_parallelism_scripts.py`:\n",
    "\n",
    "```python\n",
    "def naive_process(dataloader: DataLoader, model_blocks: List[Tuple[nn.Module, str]]) -> Tuple[torch.Tensor, float]:\n",
    "    processed_data = []\n",
    "    \n",
    "    start = time.perf_counter()\n",
    "    with torch.no_grad():\n",
    "        for batch in dataloader:\n",
    "            batch = batch[0]\n",
    "            for model_block, device in model_blocks:\n",
    "                batch = model_block(batch.to(device))\n",
    "            processed_data.append(batch.cpu())\n",
    "    stop = time.perf_counter()\n",
    "    \n",
    "    processing_time = stop - start\n",
    "    return torch.concatenate(processed_data, dim=0), processing_time\n",
    "```\n",
    "\n",
    "Здесь функция обработки данных принимает `model_blocks`. Это список пар `(блок, устройство)`, который описывает разбиение модели. Для упрощения считается, что модель — это композиция последовательных применений блоков из `model_blocks` к данным. В более общем случае `model_blocks` был бы не списком, а ориентированным графом без циклов.\n",
    "\n",
    "Заметим интересную особенность такой реализации: в каждый момент времени работает не более одного устройства. Сейчас пока получается, что в нашей технике *параллелизации* абсолютно все выполняется *последовательно*, а GPU большую часть времени простаивают. Это будет негативно сказываться на пропускной способности системы."
   ]
  },
  {
   "cell_type": "markdown",
   "id": "3b0f50bf",
   "metadata": {
    "papermill": {
     "duration": 0.004393,
     "end_time": "2024-01-07T19:18:07.806351",
     "exception": false,
     "start_time": "2024-01-07T19:18:07.801958",
     "status": "completed"
    },
    "tags": []
   },
   "source": [
    "Чтобы решить возникшую проблему, запустим инференс каждого блока в отдельном процессе, а данные между блоками будем передавать с помощью очередей. Так работает **параллельный** вариант реализации, описанный в `pipeline_parallelism_scripts.py`:\n",
    "\n",
    "```python\n",
    "def model_block_worker(model_block: nn.Module, device: str, input_queue: JoinableQueue, output_queue: JoinableQueue):\n",
    "    while True:\n",
    "        batch = input_queue.get()\n",
    "        if batch is None:\n",
    "            output_queue.put(None)\n",
    "            break\n",
    "        with torch.no_grad():\n",
    "            processed_batch = model_block(batch.to(device))\n",
    "        output_queue.put(processed_batch)\n",
    "        del batch\n",
    "        input_queue.task_done()\n",
    "    output_queue.join()\n",
    "\n",
    "def parallel_process(dataloader: DataLoader, model_blocks: List[nn.Module]) -> Tuple[torch.Tensor, float]:\n",
    "    processed_data = []\n",
    "    queues = [JoinableQueue() for _ in range(len(model_blocks) + 1)]\n",
    "    workers = [\n",
    "        Process(\n",
    "            target=model_block_worker,\n",
    "            args=(model_block, device, queues[i], queues[i + 1]),\n",
    "            daemon=True,\n",
    "        )\n",
    "        for i, (model_block, device) in enumerate(model_blocks)\n",
    "    ]\n",
    "    \n",
    "    for worker in workers:\n",
    "        worker.start()\n",
    "    \n",
    "    start = time.perf_counter()\n",
    "    for batch in dataloader:\n",
    "        queues[0].put(batch[0])\n",
    "    queues[0].put(None)\n",
    "    \n",
    "    while True:\n",
    "        processed_batch = queues[-1].get()\n",
    "        if processed_batch is None:\n",
    "            queues[-1].task_done()\n",
    "            break\n",
    "        processed_data.append(processed_batch.cpu())\n",
    "        del processed_batch\n",
    "        queues[-1].task_done()\n",
    "    stop = time.perf_counter()\n",
    "    \n",
    "    for worker in workers:\n",
    "        worker.terminate()\n",
    "    \n",
    "    processing_time = stop - start\n",
    "    return torch.concatenate(processed_data, dim=0), processing_time\n",
    "```\n",
    "\n",
    "Тонкости работы с CUDA тензорами в контексте многопроцессной обработки можно посмотреть в документации PyTorch: [Sharing CUDA tensors](https://pytorch.org/docs/stable/multiprocessing.html#sharing-cuda-tensors).\n",
    "\n",
    "Технические детали:\n",
    "* Чтобы consumer мог сигнализировать producer, что он закончил работать с данными, вместо `event.wait()`/`event.set()` из [документации](https://pytorch.org/docs/stable/multiprocessing.html#sharing-cuda-tensors) используются `JoinableQueue`.\n",
    "* В качестве сигнала конца обработки данных передается `None`."
   ]
  },
  {
   "cell_type": "markdown",
   "id": "69e5552c",
   "metadata": {
    "papermill": {
     "duration": 0.004291,
     "end_time": "2024-01-07T19:18:07.815252",
     "exception": false,
     "start_time": "2024-01-07T19:18:07.810961",
     "status": "completed"
    },
    "tags": []
   },
   "source": [
    "Функции выше помимо данных возвращают еще и время обработки."
   ]
  },
  {
   "cell_type": "markdown",
   "id": "45370dbf",
   "metadata": {
    "papermill": {
     "duration": 0.004304,
     "end_time": "2024-01-07T19:18:07.824044",
     "exception": false,
     "start_time": "2024-01-07T19:18:07.819740",
     "status": "completed"
    },
    "tags": []
   },
   "source": [
    "## Сравнение наивной и параллельной реализации"
   ]
  },
  {
   "cell_type": "code",
   "execution_count": 1,
   "id": "eaa14c8c",
   "metadata": {
    "_cell_guid": "b1076dfc-b9ad-4769-8c92-a6c4dae69d19",
    "_uuid": "8f2839f25d086af736a60e9eeb907d3b93b6e0e5",
    "execution": {
     "iopub.execute_input": "2024-01-07T19:18:07.834435Z",
     "iopub.status.busy": "2024-01-07T19:18:07.834124Z",
     "iopub.status.idle": "2024-01-07T19:18:11.592872Z",
     "shell.execute_reply": "2024-01-07T19:18:11.591930Z"
    },
    "papermill": {
     "duration": 3.766592,
     "end_time": "2024-01-07T19:18:11.595289",
     "exception": false,
     "start_time": "2024-01-07T19:18:07.828697",
     "status": "completed"
    },
    "tags": []
   },
   "outputs": [],
   "source": [
    "import torch\n",
    "import torch.nn as nn\n",
    "from torch.utils.data import DataLoader, TensorDataset\n",
    "\n",
    "from pipeline_parallelism_scripts import naive_process, parallel_process\n",
    "\n",
    "import numpy as np\n",
    "import matplotlib.pyplot as plt\n",
    "from typing import List, Tuple, Callable, Iterable\n",
    "\n",
    "import torch.multiprocessing as mp\n",
    "mp.set_start_method('spawn')"
   ]
  },
  {
   "cell_type": "markdown",
   "id": "ed672dc8",
   "metadata": {
    "papermill": {
     "duration": 0.00441,
     "end_time": "2024-01-07T19:18:11.605513",
     "exception": false,
     "start_time": "2024-01-07T19:18:11.601103",
     "status": "completed"
    },
    "tags": []
   },
   "source": [
    "В качестве подопытной сети будем использовать **DummyNet**. Эта модель не выполняет никакой осмысленной работы, но ее все еще можно использовать для иллюстрации процесса параллелизации инференса. Так что притворимся, что она занимается чем-то важным, и параллелизуем ее инференс."
   ]
  },
  {
   "cell_type": "code",
   "execution_count": 2,
   "id": "2b69ab4d",
   "metadata": {
    "execution": {
     "iopub.execute_input": "2024-01-07T19:18:11.616572Z",
     "iopub.status.busy": "2024-01-07T19:18:11.615606Z",
     "iopub.status.idle": "2024-01-07T19:18:11.625153Z",
     "shell.execute_reply": "2024-01-07T19:18:11.624123Z"
    },
    "papermill": {
     "duration": 0.017847,
     "end_time": "2024-01-07T19:18:11.627962",
     "exception": false,
     "start_time": "2024-01-07T19:18:11.610115",
     "status": "completed"
    },
    "tags": []
   },
   "outputs": [],
   "source": [
    "class DummyNet(nn.Module):\n",
    "    def __init__(self):\n",
    "        super(DummyNet, self).__init__()\n",
    "        self.block1 = nn.Sequential(\n",
    "            nn.Linear(2, 4096),\n",
    "            nn.ReLU(),\n",
    "            nn.Linear(4096, 4096),\n",
    "            nn.ReLU(),\n",
    "            nn.Linear(4096, 2),\n",
    "            nn.ReLU(),\n",
    "        )\n",
    "        self.block2 = nn.Sequential(\n",
    "            nn.Linear(2, 4096),\n",
    "            nn.ReLU(),\n",
    "            nn.Linear(4096, 4096),\n",
    "            nn.ReLU(),\n",
    "            nn.Linear(4096, 2),\n",
    "        )\n",
    "    \n",
    "    def forward(self, x: torch.Tensor):\n",
    "        x = self.block1(x)\n",
    "        x = self.block2(x)\n",
    "        return x"
   ]
  },
  {
   "cell_type": "markdown",
   "id": "152b4572",
   "metadata": {
    "papermill": {
     "duration": 0.005959,
     "end_time": "2024-01-07T19:18:11.640632",
     "exception": false,
     "start_time": "2024-01-07T19:18:11.634673",
     "status": "completed"
    },
    "tags": []
   },
   "source": [
    "Для реализации Pipeline Parallelism модель необходимо разбить на блоки. С **DummyNet** это делается совсем просто. В общем случае на практике придется вручную подбирать такое разбиение, при котором время инференса всех блоков будет примерно одинаковым. Это необходимо, так как пропускная способность параллельного пайплайна всегда равна пропускной способности его самого медленного блока."
   ]
  },
  {
   "cell_type": "code",
   "execution_count": 3,
   "id": "5aa5ed81",
   "metadata": {
    "execution": {
     "iopub.execute_input": "2024-01-07T19:18:11.654084Z",
     "iopub.status.busy": "2024-01-07T19:18:11.653611Z",
     "iopub.status.idle": "2024-01-07T19:18:12.367013Z",
     "shell.execute_reply": "2024-01-07T19:18:12.366156Z"
    },
    "papermill": {
     "duration": 0.72119,
     "end_time": "2024-01-07T19:18:12.369452",
     "exception": false,
     "start_time": "2024-01-07T19:18:11.648262",
     "status": "completed"
    },
    "tags": []
   },
   "outputs": [],
   "source": [
    "model = DummyNet()\n",
    "model_blocks = [\n",
    "    (model.block1, 'cuda:0'),\n",
    "    (model.block2, 'cuda:1'),\n",
    "]\n",
    "for model_block, device in model_blocks:\n",
    "    model_block.to(device)"
   ]
  },
  {
   "cell_type": "markdown",
   "id": "2b91c93e",
   "metadata": {
    "papermill": {
     "duration": 0.004652,
     "end_time": "2024-01-07T19:18:12.379227",
     "exception": false,
     "start_time": "2024-01-07T19:18:12.374575",
     "status": "completed"
    },
    "tags": []
   },
   "source": [
    "Следующая функция будет собирать статистику о времени обработки разных по объему наборов данных."
   ]
  },
  {
   "cell_type": "code",
   "execution_count": 4,
   "id": "86e5d33c",
   "metadata": {
    "execution": {
     "iopub.execute_input": "2024-01-07T19:18:12.390494Z",
     "iopub.status.busy": "2024-01-07T19:18:12.389708Z",
     "iopub.status.idle": "2024-01-07T19:18:12.396656Z",
     "shell.execute_reply": "2024-01-07T19:18:12.395911Z"
    },
    "papermill": {
     "duration": 0.014678,
     "end_time": "2024-01-07T19:18:12.398625",
     "exception": false,
     "start_time": "2024-01-07T19:18:12.383947",
     "status": "completed"
    },
    "tags": []
   },
   "outputs": [],
   "source": [
    "def get_timings_for_processing_method(\n",
    "    processing_method: Callable, n_batches_grid: Iterable[int], model_blocks: List[Tuple[nn.Module, str]], \n",
    "    batch_size: int = 512, n_repeats: int = 3,\n",
    ") -> List[List[float]]:\n",
    "    timing_results = []\n",
    "\n",
    "    for n_batches in n_batches_grid:\n",
    "        dataset = TensorDataset(torch.randn(n_batches * batch_size, 2))\n",
    "        dataloader = DataLoader(dataset, batch_size, num_workers=4)\n",
    "\n",
    "        processing_times = []\n",
    "        for _ in range(n_repeats):\n",
    "            _, processing_time = processing_method(dataloader, model_blocks)\n",
    "            processing_times.append(processing_time)\n",
    "        timing_results.append(processing_times)\n",
    "    \n",
    "    return timing_results"
   ]
  },
  {
   "cell_type": "markdown",
   "id": "ffea9ec5",
   "metadata": {
    "papermill": {
     "duration": 0.004635,
     "end_time": "2024-01-07T19:18:12.408257",
     "exception": false,
     "start_time": "2024-01-07T19:18:12.403622",
     "status": "completed"
    },
    "tags": []
   },
   "source": [
    "Соберем статистику о времени обработки данных."
   ]
  },
  {
   "cell_type": "code",
   "execution_count": 5,
   "id": "e4f399da",
   "metadata": {
    "execution": {
     "iopub.execute_input": "2024-01-07T19:18:12.419069Z",
     "iopub.status.busy": "2024-01-07T19:18:12.418778Z",
     "iopub.status.idle": "2024-01-07T19:35:19.953495Z",
     "shell.execute_reply": "2024-01-07T19:35:19.952274Z"
    },
    "papermill": {
     "duration": 1027.545571,
     "end_time": "2024-01-07T19:35:19.958714",
     "exception": false,
     "start_time": "2024-01-07T19:18:12.413143",
     "status": "completed"
    },
    "tags": []
   },
   "outputs": [],
   "source": [
    "n_batches_grid = range(128, 2048 + 1, 128)\n",
    "naive_processing_timing_results = get_timings_for_processing_method(naive_process, n_batches_grid, model_blocks)\n",
    "parallel_processing_timing_results = get_timings_for_processing_method(parallel_process, n_batches_grid, model_blocks)"
   ]
  },
  {
   "cell_type": "markdown",
   "id": "e3047ac9",
   "metadata": {
    "papermill": {
     "duration": 0.007624,
     "end_time": "2024-01-07T19:35:19.974767",
     "exception": false,
     "start_time": "2024-01-07T19:35:19.967143",
     "status": "completed"
    },
    "tags": []
   },
   "source": [
    "Как видим по графику, время обработки линейно зависит от количества обрабатываемых данных. Причем у параллельной реализации больше константа, что обусловлено необходимостью инициализации процессов и очередей, и меньше коэффициент за счет большей нагрузки на GPU."
   ]
  },
  {
   "cell_type": "code",
   "execution_count": 6,
   "id": "74ea01d7",
   "metadata": {
    "execution": {
     "iopub.execute_input": "2024-01-07T19:35:19.987660Z",
     "iopub.status.busy": "2024-01-07T19:35:19.986815Z",
     "iopub.status.idle": "2024-01-07T19:35:20.249208Z",
     "shell.execute_reply": "2024-01-07T19:35:20.248326Z"
    },
    "papermill": {
     "duration": 0.271356,
     "end_time": "2024-01-07T19:35:20.251647",
     "exception": false,
     "start_time": "2024-01-07T19:35:19.980291",
     "status": "completed"
    },
    "tags": []
   },
   "outputs": [
    {
     "data": {
      "image/png": "[encoded data removed]",
      "text/plain": [
       "<Figure size 640x480 with 1 Axes>"
      ]
     },
     "metadata": {},
     "output_type": "display_data"
    }
   ],
   "source": [
    "ax = plt.axes()\n",
    "ax.plot(list(n_batches_grid), np.mean(naive_processing_timing_results, axis=1))\n",
    "ax.plot(list(n_batches_grid), np.mean(parallel_processing_timing_results, axis=1))\n",
    "ax.grid(False)\n",
    "ax.set_title('Processing timings')\n",
    "ax.set_xlabel('# of consequently processed batches')\n",
    "ax.set_ylabel('Time of processing in seconds')\n",
    "plt.show()"
   ]
  }
 ],
 "metadata": {
  "kaggle": {
   "accelerator": "nvidiaTeslaT4",
   "dataSources": [
    {
     "sourceId": 157966066,
     "sourceType": "kernelVersion"
    }
   ],
   "isGpuEnabled": true,
   "isInternetEnabled": true,
   "language": "python",
   "sourceType": "notebook"
  },
  "kernelspec": {
   "display_name": "Python 3",
   "language": "python",
   "name": "python3"
  },
  "language_info": {
   "codemirror_mode": {
    "name": "ipython",
    "version": 3
   },
   "file_extension": ".py",
   "mimetype": "text/x-python",
   "name": "python",
   "nbconvert_exporter": "python",
   "pygments_lexer": "ipython3",
   "version": "3.10.12"
  },
  "papermill": {
   "default_parameters": {},
   "duration": 1038.602237,
   "end_time": "2024-01-07T19:35:22.876858",
   "environment_variables": {},
   "exception": null,
   "input_path": "__notebook__.ipynb",
   "output_path": "__notebook__.ipynb",
   "parameters": {},
   "start_time": "2024-01-07T19:18:04.274621",
   "version": "2.4.0"
  }
 },
 "nbformat": 4,
 "nbformat_minor": 5
}
