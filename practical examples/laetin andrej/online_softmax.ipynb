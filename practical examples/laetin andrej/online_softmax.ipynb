{
  "nbformat": 4,
  "nbformat_minor": 0,
  "metadata": {
    "colab": {
      "provenance": []
    },
    "kernelspec": {
      "name": "python3",
      "display_name": "Python 3"
    },
    "language_info": {
      "name": "python"
    }
  },
  "cells": [
    {
      "cell_type": "markdown",
      "source": [
        "# Вспомогательные действия"
      ],
      "metadata": {
        "id": "bYZWaBkWotLa"
      }
    },
    {
      "cell_type": "markdown",
      "source": [
        "Импортирование библиотек"
      ],
      "metadata": {
        "id": "y8Ln6EiL1Rmy"
      }
    },
    {
      "cell_type": "code",
      "execution_count": 29,
      "metadata": {
        "id": "EdkA8E4zyERM"
      },
      "outputs": [],
      "source": [
        "import torch\n",
        "import torch.nn as nn\n",
        "import numpy as np\n",
        "import scipy\n",
        "import scipy.stats as sps"
      ]
    },
    {
      "cell_type": "markdown",
      "source": [
        "Для воспроизводимости результатов"
      ],
      "metadata": {
        "id": "SffLeRh_1TjQ"
      }
    },
    {
      "cell_type": "code",
      "source": [
        "np.random.seed(seed=212225)"
      ],
      "metadata": {
        "id": "BOWf7ytJ0S3d"
      },
      "execution_count": 30,
      "outputs": []
    },
    {
      "cell_type": "markdown",
      "source": [
        "Тестовые данные"
      ],
      "metadata": {
        "id": "pTEBvs-ct74L"
      }
    },
    {
      "cell_type": "code",
      "source": [
        "# распрелеление Коши для наличия выбросов\n",
        "test_data = [sps.cauchy().rvs(1000) for _ in range(100)]\n",
        "\n",
        "# Проверяем случай с массивом из одного элемента\n",
        "test_data.append([0])"
      ],
      "metadata": {
        "id": "1SYzTs3pt-N0"
      },
      "execution_count": 31,
      "outputs": []
    },
    {
      "cell_type": "markdown",
      "source": [
        "Тестовая функция, сравнивающая во float16 равенство результатов"
      ],
      "metadata": {
        "id": "8zZcErlSoYpV"
      }
    },
    {
      "cell_type": "code",
      "source": [
        "def test_func(data, custom_softmax):\n",
        "  result = True\n",
        "\n",
        "  for test_case in data:\n",
        "    test_case = torch.tensor(test_case)\n",
        "    custom = np.array(custom_softmax(test_case), dtype=np.float16)\n",
        "    exact = np.array(scipy.special.softmax(test_case), dtype=np.float16)\n",
        "    if not np.array_equal(custom, exact):\n",
        "      result = False\n",
        "      break\n",
        "\n",
        "  if result:\n",
        "    print('Tensors are equal')\n",
        "  else:\n",
        "    print('Tensors are not equal')"
      ],
      "metadata": {
        "id": "N4a3ezu3lfTc"
      },
      "execution_count": 32,
      "outputs": []
    },
    {
      "cell_type": "markdown",
      "source": [
        "# Определение softmax"
      ],
      "metadata": {
        "id": "aCZSuc3D0CDS"
      }
    },
    {
      "cell_type": "markdown",
      "source": [
        "\n",
        "Пусть $x \\in \\mathbb{R}^N$, тогда:\n",
        "\\begin{equation}\n",
        "\\text{softmax}(x)_i = \\sigma(x)_i = \\frac{e^{x_i}}{\\sum\\limits_{j=1}^{N}{e^{x_j}}} \\tag{1}\n",
        "\\end{equation}"
      ],
      "metadata": {
        "id": "p_k8tTsynxdE"
      }
    },
    {
      "cell_type": "markdown",
      "source": [
        "# Способы вычисления"
      ],
      "metadata": {
        "id": "mgBlny7278ER"
      }
    },
    {
      "cell_type": "markdown",
      "source": [
        "## Наивный"
      ],
      "metadata": {
        "id": "j9mTpFjYMXWv"
      }
    },
    {
      "cell_type": "markdown",
      "source": [
        "- Напрямую вычисляем $\\sum\\limits_{k=1}^{N}{e^{x_k}}$\n",
        "- Каждый элемент получаем по формуле (1)"
      ],
      "metadata": {
        "id": "N79T8ovdn2Tb"
      }
    },
    {
      "cell_type": "code",
      "source": [
        "def basic_softmax(data):\n",
        "    denominator = 0\n",
        "\n",
        "    for i in range(data.shape[0]):\n",
        "        denominator += np.exp(data[i])\n",
        "\n",
        "    result = np.zeros(data.shape[0])\n",
        "\n",
        "    for i in range(data.shape[0]):\n",
        "        result[i] = np.exp(data[i]) / denominator\n",
        "\n",
        "    return result"
      ],
      "metadata": {
        "id": "3tOUZkD806uN"
      },
      "execution_count": 33,
      "outputs": []
    },
    {
      "cell_type": "code",
      "source": [
        "test_func(test_data, basic_softmax)"
      ],
      "metadata": {
        "colab": {
          "base_uri": "https://localhost:8080/"
        },
        "id": "NmvLWZ581j8d",
        "outputId": "f361bc79-da0a-45ea-b626-38b146b0b3c1"
      },
      "execution_count": 34,
      "outputs": [
        {
          "output_type": "stream",
          "name": "stdout",
          "text": [
            "Tensors are not equal\n"
          ]
        },
        {
          "output_type": "stream",
          "name": "stderr",
          "text": [
            "<ipython-input-33-4bf95bc1db0e>:5: RuntimeWarning: overflow encountered in exp\n",
            "  denominator += np.exp(data[i])\n",
            "<ipython-input-33-4bf95bc1db0e>:10: RuntimeWarning: overflow encountered in exp\n",
            "  result[i] = np.exp(data[i]) / denominator\n"
          ]
        }
      ]
    },
    {
      "cell_type": "markdown",
      "source": [
        "Чем он плох?\n",
        "- **Из-за наличия показательных функций может случиться переполнение (что и видно в тестовом примере)**\n",
        "\n",
        "Как исправить?\n",
        "- **Использовать safe-softmax**"
      ],
      "metadata": {
        "id": "WqJw1pH6ENaS"
      }
    },
    {
      "cell_type": "markdown",
      "source": [
        "## Safe-softmax"
      ],
      "metadata": {
        "id": "3S6sPIoxn7-9"
      }
    },
    {
      "cell_type": "markdown",
      "source": [
        "$$ \\text{safe_softmax}(x)_i = \\sigma(x - \\max\\limits_{k = 1}^{N}{x_k})_i = \\frac{e^{x_i - \\max\\limits_{k = 1}^{N}{x_k}}}{\\sum\\limits_{j=1}^{N}{e^{x_j - \\max\\limits_{k = 1}^{N}{x_k}}}} \\tag{2}$$"
      ],
      "metadata": {
        "id": "BhnV-i15n-1A"
      }
    },
    {
      "cell_type": "code",
      "source": [
        "def safe_softmax(data):\n",
        "    denominator = 0\n",
        "    max_elem = float('-inf')\n",
        "\n",
        "    for i in range(data.shape[0]):\n",
        "        max_elem = data[i] if data[i] > max_elem else max_elem\n",
        "\n",
        "    for i in range(data.shape[0]):\n",
        "        denominator += np.exp(data[i] - max_elem)\n",
        "\n",
        "    result = np.zeros(data.shape[0])\n",
        "    for i in range(data.shape[0]):\n",
        "        result[i] = np.exp(data[i] - max_elem) / denominator\n",
        "\n",
        "    return result"
      ],
      "metadata": {
        "id": "xNOYfMelNBw6"
      },
      "execution_count": 35,
      "outputs": []
    },
    {
      "cell_type": "code",
      "source": [
        "test_func(test_data, safe_softmax)"
      ],
      "metadata": {
        "colab": {
          "base_uri": "https://localhost:8080/"
        },
        "id": "Vl9kNFlb1-qZ",
        "outputId": "04fdccab-22e2-413a-b8e2-d07c7113664e"
      },
      "execution_count": 36,
      "outputs": [
        {
          "output_type": "stream",
          "name": "stdout",
          "text": [
            "Tensors are equal\n"
          ]
        }
      ]
    },
    {
      "cell_type": "markdown",
      "source": [
        "Возникает новая проблема - из-за необходимости нахождения $\\max\\limits_{k = 1}^{N}{x_k}$ и знаменателя дроби приходится дважды проходиться по массиву\n"
      ],
      "metadata": {
        "id": "-v61CYYnXGww"
      }
    },
    {
      "cell_type": "markdown",
      "source": [
        "**Online-softmax исправляет эту проблему**"
      ],
      "metadata": {
        "id": "_X3aWhsJdIdt"
      }
    },
    {
      "cell_type": "markdown",
      "source": [
        "## Online-softmax"
      ],
      "metadata": {
        "id": "Hpdl-E9FoNeu"
      }
    },
    {
      "cell_type": "markdown",
      "source": [
        "Теперь перед вычислением softmax-a делается всего один проход по массиву, при этом на j-м шаге прохода выполняются следующие действия:\n",
        "\n",
        "\n",
        "1.   $m_j = \\max(m_{j-1}, x_j)$\n",
        "2.   $d_j = d_{j-1} \\cdot e^{m_{j - 1} - m_{j}} +  e^{x_j - m_j}$\n",
        "\n"
      ],
      "metadata": {
        "id": "h012U8aZgSFL"
      }
    },
    {
      "cell_type": "markdown",
      "source": [
        "Вспомогательные функции для обновления коэффициентов на j-м шаге и вычисления итогового знаменателя и наибольшего числа в массиве"
      ],
      "metadata": {
        "id": "FA6SnJpqjS13"
      }
    },
    {
      "cell_type": "code",
      "source": [
        "def coefficient_refresher_(element, max_element, denominator):\n",
        "    max_i = max_element\n",
        "    max_element = element if element > max_element else max_element\n",
        "    denominator = denominator * np.exp(max_i - max_element) + np.exp(element - max_element)\n",
        "\n",
        "    return max_element, denominator\n",
        "\n",
        "def online_softmax_coeff_values(data):\n",
        "    denominator = 0\n",
        "    max_element = float('-inf')\n",
        "\n",
        "    for i in range(data.shape[0]):\n",
        "      max_element, denominator = coefficient_refresher_(data[i], max_element, denominator)\n",
        "\n",
        "    return max_element, denominator"
      ],
      "metadata": {
        "id": "Kp8DJdMPg3Ze"
      },
      "execution_count": 37,
      "outputs": []
    },
    {
      "cell_type": "markdown",
      "source": [
        "Функция для вычисления online-softmax'а"
      ],
      "metadata": {
        "id": "Ca9i48h_jm82"
      }
    },
    {
      "cell_type": "code",
      "source": [
        "def online_softmax(data):\n",
        "  result = np.zeros(data.shape[0])\n",
        "  m, d = online_softmax_coeff_values(data)\n",
        "\n",
        "  for i in range(data.shape[0]):\n",
        "    result[i] = np.exp(data[i] - m) / d\n",
        "\n",
        "  return result"
      ],
      "metadata": {
        "id": "34lcpoXejmze"
      },
      "execution_count": 38,
      "outputs": []
    },
    {
      "cell_type": "code",
      "source": [
        "test_func(test_data, online_softmax)"
      ],
      "metadata": {
        "colab": {
          "base_uri": "https://localhost:8080/"
        },
        "id": "0edF3jsHjxz5",
        "outputId": "29fc2f07-2302-4780-9c51-d311c4672794"
      },
      "execution_count": 39,
      "outputs": [
        {
          "metadata": {
            "tags": null
          },
          "name": "stdout",
          "output_type": "stream",
          "text": [
            "Tensors are equal\n"
          ]
        }
      ]
    },
    {
      "cell_type": "markdown",
      "source": [
        "Возникает вопрос - а можно ли распарралелить этот алгоритм?\n",
        "\n",
        "Ответ - **да**"
      ],
      "metadata": {
        "id": "kPhj6X6AmJSo"
      }
    },
    {
      "cell_type": "markdown",
      "source": [
        "### Параллельный online-softmax"
      ],
      "metadata": {
        "id": "pb4MHlrIp9Wo"
      }
    },
    {
      "cell_type": "markdown",
      "source": [
        "Для этого вводится ассоциаативная и коммутативная операция $\\oplus$:\n",
        "\n",
        "$ \\begin{bmatrix}\n",
        "m_i \\\\\n",
        "d_i\n",
        "\\end{bmatrix}  $\n",
        "$\\oplus$\n",
        "$ \\begin{bmatrix}\n",
        "m_j \\\\\n",
        "d_j\n",
        "\\end{bmatrix}  $\n",
        "=\n",
        "$ \\begin{bmatrix}\n",
        "\\max(m_i, m_j) \\\\\n",
        "d_i \\cdot e^{m_i - \\max(m_i, m_j)} + d_j \\cdot e^{m_j - \\max(m_i, m_j)}  \n",
        "\\end{bmatrix}  $"
      ],
      "metadata": {
        "id": "TYwBi-RNmwO9"
      }
    },
    {
      "cell_type": "markdown",
      "source": [
        "Введем функцию для представленной выше операции"
      ],
      "metadata": {
        "id": "NC3aOM2Eq4O9"
      }
    },
    {
      "cell_type": "code",
      "source": [
        "def coefficient_refresher_parallel_(m1, d1, m2, d2):\n",
        "    m12 = m1 if m1 > m2 else m2\n",
        "    d12 = d1 * np.exp(m1 - m12) + d2 * np.exp(m2 - m12)\n",
        "    return m12, d12"
      ],
      "metadata": {
        "id": "VAq6OkXRq2OT"
      },
      "execution_count": 40,
      "outputs": []
    },
    {
      "cell_type": "markdown",
      "source": [
        "Строго говоря, в этом коде нет реализации параллелизма, однако, в строке 3 части массива перемешивааются, а в строках 6-8 части исходного массива обрабатываются полностью независимо"
      ],
      "metadata": {
        "id": "dB56gnc5Uq5s"
      }
    },
    {
      "cell_type": "code",
      "source": [
        "def online_softmax_parallel(data, partition_size=4):\n",
        "    split_size = partition_size if len(data) > partition_size else len(data)\n",
        "    splits = np.array_split(data, partition_size)\n",
        "    np.random.shuffle(splits)\n",
        "    m, d = online_softmax_coeff_values(splits[0])\n",
        "\n",
        "    for index in range(1, partition_size):\n",
        "        new_m, new_d = online_softmax_coeff_values(splits[index])\n",
        "        m, d = coefficient_refresher_parallel_(m, d, new_m, new_d)\n",
        "\n",
        "    result = np.zeros(data.shape[0])\n",
        "    for i in range(data.shape[0]):\n",
        "        result[i] = np.exp(data[i] - m) / d\n",
        "    return result"
      ],
      "metadata": {
        "id": "RvcOLkMxN0Fx"
      },
      "execution_count": 41,
      "outputs": []
    },
    {
      "cell_type": "code",
      "source": [
        "test_func(test_data, online_softmax_parallel)"
      ],
      "metadata": {
        "colab": {
          "base_uri": "https://localhost:8080/"
        },
        "id": "8B5cVBZytxJX",
        "outputId": "48be6fee-242e-4aca-d47b-e4e12f2eb49f"
      },
      "execution_count": 42,
      "outputs": [
        {
          "output_type": "stream",
          "name": "stdout",
          "text": [
            "Tensors are equal\n"
          ]
        }
      ]
    },
    {
      "cell_type": "markdown",
      "source": [
        "# Имплементация online-softmax с помощью pytorch"
      ],
      "metadata": {
        "id": "kaKPkN_qfoHa"
      }
    },
    {
      "cell_type": "code",
      "source": [
        "class Online_softmax(nn.Module):\n",
        "    def __init__(self):\n",
        "        super(Online_softmax, self).__init__()\n",
        "\n",
        "    def forward(self, input):\n",
        "      denominator = 0\n",
        "      max_elem = float('-inf')\n",
        "\n",
        "      for i in range(input.shape[0]):\n",
        "          max_i = max_elem\n",
        "          max_elem = input[i] if input[i] > max_elem else max_elem\n",
        "          denominator = torch.mul(denominator, torch.exp(max_i - max_elem)) + torch.exp(input[i] - max_elem)\n",
        "\n",
        "      result = torch.exp(input - max_elem) / denominator\n",
        "\n",
        "      return result"
      ],
      "metadata": {
        "id": "b-YmggjcyLMv"
      },
      "execution_count": 43,
      "outputs": []
    },
    {
      "cell_type": "code",
      "source": [
        "online_ = Online_softmax()\n",
        "test_func(test_data, online_.forward)"
      ],
      "metadata": {
        "colab": {
          "base_uri": "https://localhost:8080/"
        },
        "id": "3W0oUOdpyDx8",
        "outputId": "3ab68c69-3e37-4874-b19d-882c1ad5ae97"
      },
      "execution_count": 44,
      "outputs": [
        {
          "output_type": "stream",
          "name": "stdout",
          "text": [
            "Tensors are equal\n"
          ]
        }
      ]
    },
    {
      "cell_type": "code",
      "source": [],
      "metadata": {
        "id": "L_Jtpy4h0P6r"
      },
      "execution_count": 44,
      "outputs": []
    }
  ]
}